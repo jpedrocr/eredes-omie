{
 "cells": [
  {
   "cell_type": "code",
   "execution_count": 1,
   "metadata": {},
   "outputs": [
    {
     "name": "stdout",
     "output_type": "stream",
     "text": [
      "Downloading energy data...\n",
      "\n",
      "Downloading em_data.grid.csv...\n"
     ]
    },
    {
     "name": "stderr",
     "output_type": "stream",
     "text": [
      "98.9kiB [00:01, 83.5kiB/s]\n"
     ]
    },
    {
     "name": "stdout",
     "output_type": "stream",
     "text": [
      "\n",
      "Download completed. File saved as /workspace/data/shelly/em_data.grid.csv\n",
      "\n",
      "Downloading em_data.solar.csv...\n"
     ]
    },
    {
     "name": "stderr",
     "output_type": "stream",
     "text": [
      "98.3kiB [00:01, 85.0kiB/s]\n"
     ]
    },
    {
     "name": "stdout",
     "output_type": "stream",
     "text": [
      "\n",
      "Download completed. File saved as /workspace/data/shelly/em_data.solar.csv\n",
      "Getting energy data...\n",
      "Resampling data...\n",
      "Selecting columns...\n",
      "Converting units...\n",
      "Renaming columns...\n",
      "Rounding values...\n",
      "Exporting data...\n"
     ]
    },
    {
     "data": {
      "text/html": [
       "<div>\n",
       "<style scoped>\n",
       "    .dataframe tbody tr th:only-of-type {\n",
       "        vertical-align: middle;\n",
       "    }\n",
       "\n",
       "    .dataframe tbody tr th {\n",
       "        vertical-align: top;\n",
       "    }\n",
       "\n",
       "    .dataframe thead th {\n",
       "        text-align: right;\n",
       "    }\n",
       "</style>\n",
       "<table border=\"1\" class=\"dataframe\">\n",
       "  <thead>\n",
       "    <tr style=\"text-align: right;\">\n",
       "      <th></th>\n",
       "      <th>grid_kWh</th>\n",
       "      <th>solar_kWh</th>\n",
       "      <th>consumed_kWh</th>\n",
       "    </tr>\n",
       "    <tr>\n",
       "      <th>timestamp_utc</th>\n",
       "      <th></th>\n",
       "      <th></th>\n",
       "      <th></th>\n",
       "    </tr>\n",
       "  </thead>\n",
       "  <tbody>\n",
       "    <tr>\n",
       "      <th>2024-04-21 06:45:00+00:00</th>\n",
       "      <td>0.05648</td>\n",
       "      <td>0.02755</td>\n",
       "      <td>0.08403</td>\n",
       "    </tr>\n",
       "    <tr>\n",
       "      <th>2024-04-21 07:00:00+00:00</th>\n",
       "      <td>0.01129</td>\n",
       "      <td>0.04398</td>\n",
       "      <td>0.05527</td>\n",
       "    </tr>\n",
       "    <tr>\n",
       "      <th>2024-04-21 07:15:00+00:00</th>\n",
       "      <td>-0.00751</td>\n",
       "      <td>0.06344</td>\n",
       "      <td>0.05593</td>\n",
       "    </tr>\n",
       "    <tr>\n",
       "      <th>2024-04-21 07:30:00+00:00</th>\n",
       "      <td>0.02092</td>\n",
       "      <td>0.08428</td>\n",
       "      <td>0.1052</td>\n",
       "    </tr>\n",
       "    <tr>\n",
       "      <th>2024-04-21 07:45:00+00:00</th>\n",
       "      <td>-0.01964</td>\n",
       "      <td>0.03294</td>\n",
       "      <td>0.0133</td>\n",
       "    </tr>\n",
       "  </tbody>\n",
       "</table>\n",
       "</div>"
      ],
      "text/plain": [
       "                           grid_kWh  solar_kWh  consumed_kWh\n",
       "timestamp_utc                                               \n",
       "2024-04-21 06:45:00+00:00   0.05648    0.02755       0.08403\n",
       "2024-04-21 07:00:00+00:00   0.01129    0.04398       0.05527\n",
       "2024-04-21 07:15:00+00:00  -0.00751    0.06344       0.05593\n",
       "2024-04-21 07:30:00+00:00   0.02092    0.08428        0.1052\n",
       "2024-04-21 07:45:00+00:00  -0.01964    0.03294        0.0133"
      ]
     },
     "execution_count": 1,
     "metadata": {},
     "output_type": "execute_result"
    }
   ],
   "source": [
    "import energy_meters.shelly as shelly\n",
    "\n",
    "shelly_df = shelly.process_energy_history(debug=True)\n",
    "shelly_df.tail()"
   ]
  },
  {
   "cell_type": "code",
   "execution_count": null,
   "metadata": {},
   "outputs": [],
   "source": [
    "import providers.repsol as repsol\n",
    "\n",
    "repsol_prices_df = repsol.get_latest_prices()"
   ]
  },
  {
   "cell_type": "code",
   "execution_count": null,
   "metadata": {},
   "outputs": [],
   "source": [
    "costs_df = shelly_df.join(repsol_prices_df, how=\"inner\")\n",
    "costs_df[\"bought_€\"] = (costs_df[\"€/kWh\"] * costs_df[\"main_kWh\"]).clip(lower=0)\n",
    "costs_df[\"lost_€\"] = -(costs_df[\"€/kWh\"] * costs_df[\"main_kWh\"]).clip(upper=0)\n",
    "costs_df[\"solar_production_€\"] = costs_df[\"€/kWh\"] * costs_df[\"solar_kWh\"]\n",
    "costs_df[\"solar_consumtion_€\"] = costs_df[\"solar_production_€\"] - costs_df[\"lost_€\"]\n",
    "costs_df[\"consumed_€\"] = costs_df[\"€/kWh\"] * costs_df[\"consumed_kWh\"]\n",
    "costs_df[\n",
    "    [\n",
    "        \"consumed_€\",\n",
    "        \"bought_€\",\n",
    "        \"solar_consumtion_€\",\n",
    "        \"solar_production_€\",\n",
    "        \"lost_€\",\n",
    "    ]\n",
    "].resample(\"1h\").sum().head()"
   ]
  },
  {
   "cell_type": "code",
   "execution_count": null,
   "metadata": {},
   "outputs": [],
   "source": [
    "costs_df[\n",
    "    [\n",
    "        \"consumed_€\",\n",
    "        \"bought_€\",\n",
    "        \"solar_consumtion_€\",\n",
    "        \"solar_production_€\",\n",
    "        \"lost_€\",\n",
    "    ]\n",
    "].resample(\"1D\").sum()"
   ]
  },
  {
   "cell_type": "code",
   "execution_count": null,
   "metadata": {},
   "outputs": [],
   "source": [
    "current_month_consumption_history_df = pd.read_csv(\n",
    "    \"/workspace/data/current_month_consumption_history.csv\",\n",
    "    sep=\",\",\n",
    "    header=0,\n",
    "    index_col=0,\n",
    "    names=[\"timestamp_utc\", \"Consumption (kWh)\", \"Injection (kWh)\"],\n",
    "    dtype={\"Consumption (kWh)\": \"Float64\", \"Injection (kWh)\": \"Float64\"},\n",
    "    parse_dates=[\"timestamp_utc\"],\n",
    ")\n",
    "shelly_consumption_history_df = pd.read_csv(\n",
    "    \"/workspace/data/shelly_consumption_history.csv\",\n",
    "    sep=\",\",\n",
    "    header=0,\n",
    "    index_col=0,\n",
    "    names=[\"timestamp_utc\", \"Grid (kWh)\", \"Solar (kWh)\", \"Consumed (kWh)\"],\n",
    "    dtype={\n",
    "        \"Grid (kWh)\": \"Float64\",\n",
    "        \"Solar (kWh)\": \"Float64\",\n",
    "        \"Consumed (kWh)\": \"Float64\",\n",
    "    },\n",
    "    parse_dates=[\"timestamp_utc\"],\n",
    ")\n",
    "\n",
    "compare_df = pd.merge(\n",
    "    current_month_consumption_history_df,\n",
    "    shelly_consumption_history_df,\n",
    "    left_index=True,\n",
    "    right_index=True,\n",
    "    how=\"inner\",\n",
    ")\n",
    "\n",
    "compare_df = compare_df.resample(\"1h\").sum()\n",
    "compare_df.loc[:, \"E-Redes (kWh)\"] = (\n",
    "    compare_df.loc[:, \"Consumption (kWh)\"] - compare_df.loc[:, \"Injection (kWh)\"]\n",
    ")\n",
    "compare_df.loc[:, \"Shelly (kWh)\"] = compare_df.loc[:, \"Grid (kWh)\"]\n",
    "compare_df.loc[:, \"Diff (kWh)\"] = (\n",
    "    compare_df.loc[:, \"Grid (kWh)\"]\n",
    "    - compare_df.loc[:, \"Consumption (kWh)\"]\n",
    "    + compare_df.loc[:, \"Injection (kWh)\"]\n",
    ")\n",
    "print(\n",
    "    f'Desvio médio de {compare_df[\"Diff (kWh)\"].mean()*1000:.2f} Wh em relação ao consumo real.'\n",
    ")\n",
    "print(\n",
    "    f'Desvio máximo de {compare_df[\"Diff (kWh)\"].max()*1000:.2f} Wh em relação ao consumo real.'\n",
    ")\n",
    "# compare_df[\n",
    "#     [\n",
    "#         \"E-Redes (kWh)\",\n",
    "#         \"Shelly (kWh)\",\n",
    "#         \"Diff (kWh)\",\n",
    "#     ]\n",
    "# ].plot.line(figsize=(15, 5))"
   ]
  },
  {
   "cell_type": "code",
   "execution_count": null,
   "metadata": {},
   "outputs": [],
   "source": [
    "import plot\n",
    "\n",
    "plot.weekly_energy_consumption()"
   ]
  }
 ],
 "metadata": {
  "kernelspec": {
   "display_name": ".venv",
   "language": "python",
   "name": "python3"
  },
  "language_info": {
   "codemirror_mode": {
    "name": "ipython",
    "version": 3
   },
   "file_extension": ".py",
   "mimetype": "text/x-python",
   "name": "python",
   "nbconvert_exporter": "python",
   "pygments_lexer": "ipython3",
   "version": "3.12.2"
  }
 },
 "nbformat": 4,
 "nbformat_minor": 2
}
